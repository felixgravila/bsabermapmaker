{
 "cells": [
  {
   "cell_type": "markdown",
   "metadata": {},
   "source": [
    "# Combination investigation\n",
    "\n",
    "this notebook investigates the distribution of block combinations in the dataset, which will guide architecture decisions"
   ]
  },
  {
   "cell_type": "code",
   "execution_count": 1,
   "metadata": {},
   "outputs": [],
   "source": [
    "import os\n",
    "import matplotlib.pyplot as plt\n",
    "import json # .dat files are actually json\n",
    "import numpy as np\n",
    "from functools import reduce, partial\n",
    "import math"
   ]
  },
  {
   "cell_type": "code",
   "execution_count": 2,
   "metadata": {},
   "outputs": [],
   "source": [
    "# Define difficulty based on _difficultyRank present in info.dat\n",
    "\n",
    "DIFFICULTIES = {\n",
    "    \"Easy\": [1,2],\n",
    "    \"Normal\": [3,4],\n",
    "    \"Hard\": [5,6],\n",
    "    \"Expert\": [7,8],\n",
    "    \"Expert+\": [9]\n",
    "}"
   ]
  },
  {
   "cell_type": "code",
   "execution_count": 3,
   "metadata": {},
   "outputs": [],
   "source": [
    "# Analysis parameters\n",
    "\n",
    "DIFFICULTY = \"Expert+\"\n",
    "# DIFFICULTY = \"Easy\"\n"
   ]
  },
  {
   "cell_type": "code",
   "execution_count": 4,
   "metadata": {},
   "outputs": [
    {
     "name": "stdout",
     "output_type": "stream",
     "text": [
      "504 songs in the folder\n"
     ]
    }
   ],
   "source": [
    "rootDirs = [\"data/raw/CustomLevels/\", \"../data/raw/CustomLevels/\"]\n",
    "for rd in rootDirs:\n",
    "    if os.path.isdir(rd):\n",
    "        rootDir = rd\n",
    "        break\n",
    "\n",
    "songs = os.listdir(rootDir)\n",
    "print(f\"{len(songs)} songs in the folder\")\n",
    "assert len(songs) > 0, \"Folder doesn't contain any songs\""
   ]
  },
  {
   "cell_type": "code",
   "execution_count": 5,
   "metadata": {},
   "outputs": [
    {
     "name": "stdout",
     "output_type": "stream",
     "text": [
      "250 mappings left after difficulty filtering\n"
     ]
    }
   ],
   "source": [
    "# Make a list of all mappings of the specified difficulty rating\n",
    "\n",
    "mappings = []\n",
    "\n",
    "for song in songs:\n",
    "    try:\n",
    "        with open(os.path.join(rootDir, song, \"info.dat\")) as f:\n",
    "            info = json.load(f)\n",
    "        for dbs in info['_difficultyBeatmapSets']:\n",
    "            for db in dbs['_difficultyBeatmaps']:\n",
    "                if db['_difficultyRank'] in DIFFICULTIES[DIFFICULTY]:\n",
    "                    mappings.append(os.path.join(rootDir, song, db['_beatmapFilename']))\n",
    "    except Exception as e:\n",
    "        print(e)\n",
    "        \n",
    "print(f\"{len(mappings)} mappings left after difficulty filtering\")\n",
    "assert len(mappings) > 0, \"mappings should have at least one mapping\""
   ]
  },
  {
   "cell_type": "code",
   "execution_count": 6,
   "metadata": {},
   "outputs": [],
   "source": [
    "# Load the note lists for each song into memory\n",
    "\n",
    "noteLists = {}\n",
    "\n",
    "for mapping in mappings:\n",
    "    with open(mapping) as f:\n",
    "        noteLists[mapping] = json.load(f)['_notes']"
   ]
  },
  {
   "cell_type": "markdown",
   "metadata": {},
   "source": [
    "### Notes\n",
    "\n",
    "Notes contain the following information:\n",
    "\n",
    "* \"_time\": the time step (seconds) when the event happens\n",
    "* \"_lineIndex\": the column of the note (?)\n",
    "* \"_lineLayer\": the row of the note (?)\n",
    "* \"_type\": the colour of the note\n",
    "* \"_cutDirection\": the direction in which to cut the note\n",
    "\n",
    "Multiple notes can appear at the same timestep\n",
    "\n",
    "#### Positions\n",
    "\n",
    "```\n",
    "_cutDirection\n",
    "↖↑↗  4 0 5\n",
    "←o→  2 8 3\n",
    "↙↓↘  6 1 7\n",
    "\n",
    "_lineLayer\n",
    "2\n",
    "1\n",
    "0 1 2 3 _lineIndex\n",
    "```\n",
    "\n",
    "(Info obtained by experimenting)\n",
    "\n",
    "### Analysis pt. 1\n",
    "\n",
    "I don't know anything about mapping files and have never created one \"the normal way\". I think there should be 3 rows of 4 columns, but I need to first test this.\n"
   ]
  },
  {
   "cell_type": "code",
   "execution_count": 7,
   "metadata": {},
   "outputs": [
    {
     "name": "stdout",
     "output_type": "stream",
     "text": [
      "../data/raw/CustomLevels/4e8d (Centipede (VISUAL) - nicetomeetyou)/ExpertPlus.dat over limit\n",
      "../data/raw/CustomLevels/645a (A B Y S S - rustic)/ExpertPlusStandard.dat over limit\n",
      "../data/raw/CustomLevels/97ac (Unholy Crusade - cyansnow)/ExpertPlusStandard.dat over limit\n",
      "../data/raw/CustomLevels/8eec (LA Devotee - night)/ExpertPlusStandard.dat over limit\n"
     ]
    }
   ],
   "source": [
    "all_note_positions = []\n",
    "memeSongs = []\n",
    "for songTitle, songNotes in noteLists.items():\n",
    "    # add them here first so we can not add them if it's a meme song later\n",
    "    songNotePositions = []\n",
    "    for note in songNotes:\n",
    "        lineIndex, lineLayer = note['_lineIndex'],  note['_lineLayer']\n",
    "        # keep it reasonable for songs that go overboard\n",
    "        if lineIndex < -5 or lineIndex > 7 or lineLayer < -3 or lineLayer > 5:\n",
    "            print(f\"{songTitle} over limit\")\n",
    "            memeSongs.append(songTitle)\n",
    "            break\n",
    "        else:\n",
    "            songNotePositions.append({\"LI\": lineIndex, \"LL\": lineLayer})\n",
    "    all_note_positions.extend(songNotePositions)"
   ]
  },
  {
   "cell_type": "code",
   "execution_count": 8,
   "metadata": {},
   "outputs": [
    {
     "name": "stdout",
     "output_type": "stream",
     "text": [
      "min lineIndex : -2\n",
      "max lineIndex : 5\n",
      "min lineLayer : 0\n",
      "max lineLayer : 2\n"
     ]
    }
   ],
   "source": [
    "miLI = min([a['LI'] for a in all_note_positions])\n",
    "maLI = max([a['LI'] for a in all_note_positions])\n",
    "miLL = min([a['LL'] for a in all_note_positions])\n",
    "maLL = max([a['LL'] for a in all_note_positions])\n",
    "\n",
    "print(f\"min lineIndex : {miLI}\")\n",
    "print(f\"max lineIndex : {maLI}\")\n",
    "print(f\"min lineLayer : {miLL}\")\n",
    "print(f\"max lineLayer : {maLL}\")"
   ]
  },
  {
   "cell_type": "markdown",
   "metadata": {},
   "source": [
    "\n",
    "#### for my songs on Expert+:\n",
    "\n",
    "* min lineIndex : -2\n",
    "* max lineIndex : 5\n",
    "* min lineLayer : 0\n",
    "* max lineLayer : 2\n",
    "\n",
    "Seems like reasonable songs only use 3 rows and at most 8 columns\n",
    "\n",
    "### Analysis pt. 2\n",
    "\n",
    "number of locations:\n",
    "\n",
    "$ n_{loc8} = \\_lineIndex \\cdot \\_lineLayer = 8 \\cdot 3 = 24 $\n",
    "\n",
    "number of block types:\n",
    "\n",
    "$ n_{block} = \\_type \\cdot \\_cutDirection = 2 \\cdot 9 = 18 $\n",
    "\n",
    "The max number of states for a block is:\n",
    "\n",
    "$ b_1 = n_{loc8} \\cdot n_{block} = 432$\n",
    "\n",
    "However, multiple blocks are allowed. This means the total number of possible arrangements at one time step are:\n",
    "\n",
    "$ b_{all} = (n_{block} + 1)^{n_{loc8}} >10^{30} $\n",
    "\n",
    "\n",
    "Let's analyse the block positions to see if any can be discarded\n"
   ]
  },
  {
   "cell_type": "code",
   "execution_count": 9,
   "metadata": {},
   "outputs": [
    {
     "name": "stdout",
     "output_type": "stream",
     "text": [
      "[[  270   310  9269 11011 10995  9679   307   259]\n",
      " [  298   394 23120  2856  2830 24285   369   273]\n",
      " [  522   525 30075 50003 49612 25013   499   471]]\n"
     ]
    }
   ],
   "source": [
    "# initialise heatmap as matrix of 0's\n",
    "heatMap = np.zeros((maLL-miLL+1, maLI-miLI+1), dtype=\"uint32\")\n",
    "\n",
    "for note in all_note_positions:\n",
    "    heatMap[note['LL'] - miLL ][note['LI'] - miLI ] += 1\n",
    "\n",
    "# print the matrix (upside down, since layer 0 is the ground layer)\n",
    "print(heatMap[::-1])"
   ]
  },
  {
   "cell_type": "code",
   "execution_count": 10,
   "metadata": {},
   "outputs": [
    {
     "data": {
      "image/png": "[encoded data removed]",
      "text/plain": [
       "<Figure size 720x360 with 1 Axes>"
      ]
     },
     "metadata": {
      "needs_background": "light"
     },
     "output_type": "display_data"
    }
   ],
   "source": [
    "# plot the heatmap (upside down, since layer 0 is the ground layer)\n",
    "\n",
    "fig = plt.figure(figsize=(10,5))\n",
    "ax = fig.add_subplot(111)\n",
    "ax.imshow(heatMap, cmap=\"hot\", origin=\"lower\", )\n",
    "ax.set_xlabel(\"LineIndex\")\n",
    "ax.set_ylabel(\"LineLayer\")\n",
    "ax.set_xticks(range(0, maLI - miLI + 1))\n",
    "ax.set_xticklabels(range(miLI, maLI + 1))\n",
    "ax.set_yticks(range(0, maLL - miLL + 1))\n",
    "ax.set_yticklabels(range(miLL, maLL + 1))\n",
    "plt.show()"
   ]
  },
  {
   "cell_type": "markdown",
   "metadata": {},
   "source": [
    "It seems that the extended two blocks on each side are almost never used; they can be discarded for simplicity. Updating:\n",
    "\n",
    "number of locations:\n",
    "\n",
    "$ n_{loc} = \\_lineIndex \\cdot \\_lineLayer = 4 \\cdot 3 = 12 $\n",
    "\n",
    "The max number of states for a block therefore drops down to:\n",
    "\n",
    "$ b_1 = n_{loc} \\cdot n_{block} = 216$\n",
    "\n",
    "And all possible arrangements for a time step, allowing everything:\n",
    "\n",
    "$ b_{all} = (n_{block} + 1)^{n_{loc}} > 10^{15} $\n",
    "\n",
    "still a huge number. Let's only allow at most 2 blocks, one for the right hand and one for the left hand.\n",
    "\n",
    "$ b_{2} = \\_cutDirection^2 \\cdot n_{loc} \\cdot (n_{loc} - 1) = 10692 $\n"
   ]
  },
  {
   "cell_type": "markdown",
   "metadata": {},
   "source": [
    "### Common configuration analysis\n",
    "\n",
    "\n",
    "Presumably not all of these combinations are represented. Let's perform an analysis on the common configurations.\n",
    "\n",
    "Keep only at most one block per time step per left/right hand. If multiple, take the lowest. However, prioritise having a cut direction\n",
    "\n",
    "Skip meme songs"
   ]
  },
  {
   "cell_type": "code",
   "execution_count": 11,
   "metadata": {},
   "outputs": [],
   "source": [
    "# Reduce each song from a list of notes to a list of lists of notes, where notes with the same time step are together\n",
    "\n",
    "def songNotesTogether(a,b):\n",
    "    if len(a) != 0 and a[-1][-1]['_time'] == b['_time']:\n",
    "        a[-1].append(b)\n",
    "    else:\n",
    "        a.append([b])\n",
    "    return a\n",
    "\n",
    "def songNotesTogetherWrapper(noteList):\n",
    "    return reduce(songNotesTogether, noteList, [])"
   ]
  },
  {
   "cell_type": "code",
   "execution_count": 12,
   "metadata": {},
   "outputs": [],
   "source": [
    "# sorting to ensure identical configs are the same\n",
    "\n",
    "def noteSortKey(note):\n",
    "    hasDirection = 0 if note['_cutDirection'] == 8 else 1\n",
    "    \n",
    "    lrkey = note['_lineIndex']\n",
    "    if note['_type'] == 1:\n",
    "        # right\n",
    "        lrkey = 3 - note['_lineIndex']\n",
    "    return (hasDirection, note['_lineLayer'], lrkey)\n",
    "        \n",
    "\n",
    "def sortNotesOnSameTimestamp(tsnotes):\n",
    "    return sorted(tsnotes, key=noteSortKey)\n",
    "\n",
    "def sortSongNotesWrapper(notes):\n",
    "    return map(sortNotesOnSameTimestamp, notes)"
   ]
  },
  {
   "cell_type": "code",
   "execution_count": 13,
   "metadata": {},
   "outputs": [],
   "source": [
    "# For each time step, make the configuration using bit shifting\n",
    "\n",
    "# first 2 bits for LL\n",
    "# second 2 bits for LI\n",
    "# final 4 bits for cut direction\n",
    "# first 8 bits left, last 8 bits right\n",
    "# => 16 bit id\n",
    "\n",
    "def makeConfigForNote(note):\n",
    "    config = 0\n",
    "    if note != None:\n",
    "        config += note['_lineLayer']<<6\n",
    "        config += note['_lineIndex']<<4\n",
    "        config += note['_cutDirection']\n",
    "    return config\n",
    "    \n",
    "def makeConfigForTS(notes):\n",
    "    left = None\n",
    "    right = None\n",
    "    for note in notes:\n",
    "        if left == None and note['_type'] == 0:\n",
    "            left = note\n",
    "        elif right == None and note[\"_type\"] == 1:\n",
    "            right = note\n",
    "    \n",
    "    config = 0\n",
    "    config += makeConfigForNote(left) << 8\n",
    "    config += makeConfigForNote(right)\n",
    "    return config\n",
    "\n",
    "def makeConfigForTSWrapper(song): \n",
    "    return map(makeConfigForTS, song)\n"
   ]
  },
  {
   "cell_type": "code",
   "execution_count": 14,
   "metadata": {},
   "outputs": [],
   "source": [
    "# entire processing\n",
    "configLists = list(map(makeConfigForTSWrapper, map(sortSongNotesWrapper, map(songNotesTogetherWrapper, noteLists.values()))))"
   ]
  },
  {
   "cell_type": "code",
   "execution_count": 15,
   "metadata": {},
   "outputs": [],
   "source": [
    "# Finally, count them in a map\n",
    "distrib = {}\n",
    "\n",
    "for song in configLists:\n",
    "    for config in song:\n",
    "        if config not in distrib:\n",
    "            distrib[config] = 0\n",
    "        distrib[config] += 1"
   ]
  },
  {
   "cell_type": "code",
   "execution_count": 16,
   "metadata": {},
   "outputs": [],
   "source": [
    "items = sorted(distrib.values(), reverse=True)"
   ]
  },
  {
   "cell_type": "code",
   "execution_count": 17,
   "metadata": {},
   "outputs": [
    {
     "data": {
      "image/png": "[encoded data removed]",
      "text/plain": [
       "<Figure size 1440x360 with 1 Axes>"
      ]
     },
     "metadata": {
      "needs_background": "light"
     },
     "output_type": "display_data"
    }
   ],
   "source": [
    "fig = plt.figure(figsize=(20,5))\n",
    "ax = fig.add_subplot(111)\n",
    "ax.plot(items)\n",
    "ax.set_xlabel(\"#th most popular configuration\")\n",
    "ax.set_ylabel(\"occurrence\")\n",
    "plt.show()"
   ]
  },
  {
   "cell_type": "code",
   "execution_count": 18,
   "metadata": {},
   "outputs": [
    {
     "data": {
      "image/png": "[encoded data removed]",
      "text/plain": [
       "<Figure size 1440x360 with 1 Axes>"
      ]
     },
     "metadata": {
      "needs_background": "light"
     },
     "output_type": "display_data"
    }
   ],
   "source": [
    "# plot the percentage of all configs encompassed by all configurations so far\n",
    "\n",
    "def reduceSumSoFar(a,b):\n",
    "    if len(a) == 0:\n",
    "        return [b]\n",
    "    a.append(a[-1]+b)\n",
    "    return a\n",
    "\n",
    "sumsSoFar = reduce(reduceSumSoFar,items,[])\n",
    "\n",
    "num_yticks = 10\n",
    "\n",
    "fig = plt.figure(figsize=(20,5))\n",
    "ax = fig.add_subplot(111)\n",
    "ax.plot(sumsSoFar)\n",
    "ax.set_xlabel(\"#th most popular configuration\")\n",
    "ax.set_ylabel(\"occurrences of all popular configs so far (% all)\")\n",
    "ax.set_yticks([i*sumsSoFar[-1]/num_yticks for i in range(num_yticks + 1)])\n",
    "ax.set_yticklabels([x/num_yticks for x in range(num_yticks + 1)])\n",
    "plt.show()"
   ]
  },
  {
   "cell_type": "code",
   "execution_count": 19,
   "metadata": {},
   "outputs": [
    {
     "name": "stdout",
     "output_type": "stream",
     "text": [
      "There are 2847 total number of unique combinations, making up 198848 events\n",
      "first     1 most popular configs represent 5.568% of the total\n",
      "first    36 most popular configs represent 68.035% of the total\n",
      "first   121 most popular configs represent 86.310% of the total\n",
      "first   256 most popular configs represent 93.245% of the total\n",
      "first   441 most popular configs represent 96.240% of the total\n",
      "first   676 most popular configs represent 97.700% of the total\n",
      "first   961 most popular configs represent 98.508% of the total\n",
      "first  1296 most popular configs represent 99.024% of the total\n",
      "first  1681 most popular configs represent 99.411% of the total\n",
      "first  2116 most popular configs represent 99.632% of the total\n",
      "first  2601 most popular configs represent 99.876% of the total\n"
     ]
    }
   ],
   "source": [
    "tot_combinations = sum(items)\n",
    "print(f\"There are {len(items)} total number of unique combinations, making up {tot_combinations} events\")\n",
    "for i in range(1, round(math.sqrt(len(items))), 5):\n",
    "    print(f\"first {i*i:5d} most popular configs represent {100*sum(items[:i*i])/tot_combinations:.3f}% of the total\")"
   ]
  },
  {
   "cell_type": "markdown",
   "metadata": {},
   "source": [
    "## Insight\n",
    "\n",
    "In practice, a small number of configurations is popular. Furthermore, being able to output a configuration as 16 bits loosens constraints on the architecture, since 16 output neurons can be used to print an entire configuration, without needing complex decoders. However, due to the encoding, care must be taken that the model is able to understand the meaning of bits: cutDirection 2 (0b0010) and 3 (0b0011) are highly similar, while the switch between the two may completely break the flow of the song. "
   ]
  },
  {
   "cell_type": "code",
   "execution_count": null,
   "metadata": {},
   "outputs": [],
   "source": []
  }
 ],
 "metadata": {
  "kernelspec": {
   "display_name": "Python 3",
   "language": "python",
   "name": "python3"
  },
  "language_info": {
   "codemirror_mode": {
    "name": "ipython",
    "version": 3
   },
   "file_extension": ".py",
   "mimetype": "text/x-python",
   "name": "python",
   "nbconvert_exporter": "python",
   "pygments_lexer": "ipython3",
   "version": "3.7.4"
  }
 },
 "nbformat": 4,
 "nbformat_minor": 4
}
