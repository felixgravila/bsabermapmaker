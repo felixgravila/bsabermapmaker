{
 "cells": [
  {
   "cell_type": "markdown",
   "metadata": {},
   "source": [
    "# Combination investigation\n",
    "\n",
    "this notebook investigates the distribution of block combinations in the dataset, which will guide architecture decisions"
   ]
  },
  {
   "cell_type": "code",
   "execution_count": 193,
   "metadata": {},
   "outputs": [],
   "source": [
    "import os\n",
    "import matplotlib.pyplot as plt\n",
    "import json # .dat files are actually json\n",
    "import numpy as np"
   ]
  },
  {
   "cell_type": "code",
   "execution_count": 35,
   "metadata": {},
   "outputs": [],
   "source": [
    "# Define difficulty based on _difficultyRank present in info.dat\n",
    "\n",
    "DIFFICULTIES = {\n",
    "    \"Easy\": [1,2],\n",
    "    \"Normal\": [3,4],\n",
    "    \"Hard\": [5,6],\n",
    "    \"Expert\": [7,8],\n",
    "    \"Expert+\": [9]\n",
    "}"
   ]
  },
  {
   "cell_type": "code",
   "execution_count": 248,
   "metadata": {},
   "outputs": [],
   "source": [
    "# Analysis parameters\n",
    "\n",
    "DIFFICULTY = \"Expert+\"\n",
    "# DIFFICULTY = \"Easy\"\n"
   ]
  },
  {
   "cell_type": "code",
   "execution_count": 249,
   "metadata": {},
   "outputs": [
    {
     "name": "stdout",
     "output_type": "stream",
     "text": [
      "504 songs in the folder\n"
     ]
    }
   ],
   "source": [
    "rootDir = \"data/raw/CustomLevels/\"\n",
    "songs = os.listdir(rootDir)\n",
    "print(f\"{len(songs)} songs in the folder\")\n",
    "assert len(songs) > 0, \"Folder doesn't contain any songs\""
   ]
  },
  {
   "cell_type": "code",
   "execution_count": 250,
   "metadata": {},
   "outputs": [
    {
     "name": "stdout",
     "output_type": "stream",
     "text": [
      "[Errno 2] No such file or directory: 'data/raw/CustomLevels/baa6 (Easy - alekcake)/info.dat'\n",
      "[Errno 2] No such file or directory: 'data/raw/CustomLevels/Jaroslav Beck - Beat Saber (Built in)/info.dat'\n",
      "248 mappings left after difficulty filtering\n"
     ]
    }
   ],
   "source": [
    "# Make a list of all mappings of the specified difficulty rating\n",
    "\n",
    "mappings = []\n",
    "\n",
    "for song in songs:\n",
    "    try:\n",
    "        with open(os.path.join(rootDir, song, \"info.dat\")) as f:\n",
    "            info = json.load(f)\n",
    "        for dbs in info['_difficultyBeatmapSets']:\n",
    "            for db in dbs['_difficultyBeatmaps']:\n",
    "                if db['_difficultyRank'] in DIFFICULTIES[DIFFICULTY]:\n",
    "                    mappings.append(os.path.join(rootDir, song, db['_beatmapFilename']))\n",
    "    except Exception as e:\n",
    "        print(e)\n",
    "        \n",
    "print(f\"{len(mappings)} mappings left after difficulty filtering\")\n",
    "assert len(mappings) > 0, \"mappings should have at least one mapping\""
   ]
  },
  {
   "cell_type": "code",
   "execution_count": 251,
   "metadata": {},
   "outputs": [],
   "source": [
    "# Load the note lists for each song into memory\n",
    "\n",
    "noteLists = {}\n",
    "\n",
    "for mapping in mappings:\n",
    "    with open(mapping) as f:\n",
    "        noteLists[mapping] = json.load(f)['_notes']"
   ]
  },
  {
   "cell_type": "markdown",
   "metadata": {},
   "source": [
    "### Notes\n",
    "\n",
    "Notes contain the following information:\n",
    "\n",
    "* \"_time\": the time step (seconds) when the event happens\n",
    "* \"_lineIndex\": the column of the note (?)\n",
    "* \"_lineLayer\": the row of the note (?)\n",
    "* \"_type\": the colour of the note\n",
    "* \"_cutDirection\": the direction in which to cut the note\n",
    "\n",
    "Multiple notes can appear at the same timestep\n",
    "\n",
    "### Analysis pt. 1\n",
    "\n",
    "I don't know anything about mapping files and have never created one \"the normal way\". I think there should be 3 rows of 4 columns, but I need to first test this.\n"
   ]
  },
  {
   "cell_type": "code",
   "execution_count": 252,
   "metadata": {},
   "outputs": [
    {
     "name": "stdout",
     "output_type": "stream",
     "text": [
      "data/raw/CustomLevels/645a (A B Y S S - rustic)/ExpertPlusStandard.dat over limit\n",
      "data/raw/CustomLevels/67ba (Air - gВvarred)/ExpertPlus.dat over limit\n",
      "data/raw/CustomLevels/8eec (LA Devotee - night)/ExpertPlusStandard.dat over limit\n",
      "data/raw/CustomLevels/97ac (Unholy Crusade - cyansnow)/ExpertPlusStandard.dat over limit\n"
     ]
    }
   ],
   "source": [
    "all_note_positions = []\n",
    "for songTitle, songNotes in noteLists.items():\n",
    "    # add them here first so we can not add them if it's a meme song later\n",
    "    songNotePositions = []\n",
    "    for note in songNotes:\n",
    "        lineIndex, lineLayer = note['_lineIndex'],  note['_lineLayer']\n",
    "        # keep it reasonable for songs that go overboard\n",
    "        if lineIndex < -5 or lineIndex > 7 or lineLayer < -3 or lineLayer > 5:\n",
    "            print(f\"{songTitle} over limit\")\n",
    "            break\n",
    "        else:\n",
    "            songNotePositions.append({\"LI\": lineIndex, \"LL\": lineLayer})\n",
    "    all_note_positions.extend(songNotePositions)"
   ]
  },
  {
   "cell_type": "code",
   "execution_count": 253,
   "metadata": {},
   "outputs": [
    {
     "name": "stdout",
     "output_type": "stream",
     "text": [
      "min lineIndex : -2\n",
      "max lineIndex : 5\n",
      "min lineLayer : 0\n",
      "max lineLayer : 2\n"
     ]
    }
   ],
   "source": [
    "miLI = min([a['LI'] for a in all_note_positions])\n",
    "maLI = max([a['LI'] for a in all_note_positions])\n",
    "miLL = min([a['LL'] for a in all_note_positions])\n",
    "maLL = max([a['LL'] for a in all_note_positions])\n",
    "\n",
    "print(f\"min lineIndex : {miLI}\")\n",
    "print(f\"max lineIndex : {maLI}\")\n",
    "print(f\"min lineLayer : {miLL}\")\n",
    "print(f\"max lineLayer : {maLL}\")"
   ]
  },
  {
   "cell_type": "markdown",
   "metadata": {},
   "source": [
    "\n",
    "#### for my songs on Expert+:\n",
    "\n",
    "* min lineIndex : -2\n",
    "* max lineIndex : 5\n",
    "* min lineLayer : 0\n",
    "* max lineLayer : 2\n",
    "\n",
    "Seems like reasonable songs only use 3 rows and at most 8 columns\n",
    "\n",
    "### Analysis pt. 2\n",
    "\n",
    "number of locations:\n",
    "\n",
    "$ n_{loc8} = \\_lineIndex \\cdot \\_lineLayer = 8 \\cdot 3 = 24 $\n",
    "\n",
    "number of block types:\n",
    "\n",
    "$ n_{block} = \\_type \\cdot \\_cutDirection = 2 \\cdot 9 = 18 $\n",
    "\n",
    "The max number of states for a block is:\n",
    "\n",
    "$ b_1 = n_{loc8} \\cdot n_{block} = 432$\n",
    "\n",
    "However, multiple blocks are allowed. This means the total number of possible arrangements at one time step are:\n",
    "\n",
    "$ b_{all} = (n_{block} + 1)^{n_{loc8}} >10^{30} $\n",
    "\n",
    "\n",
    "Let's analyse the block positions to see if any can be discarded\n"
   ]
  },
  {
   "cell_type": "code",
   "execution_count": 254,
   "metadata": {},
   "outputs": [
    {
     "name": "stdout",
     "output_type": "stream",
     "text": [
      "[[  522   525 29887 49679 49274 24812   502   471]\n",
      " [  298   394 23050  2856  2829 24206   369   273]\n",
      " [  270   310  9228 10981 10970  9643   307   259]]\n"
     ]
    }
   ],
   "source": [
    "# initialise heatmap as matrix of 0's\n",
    "heatMap = np.zeros((maLL-miLL+1, maLI-miLI+1), dtype=\"uint32\")\n",
    "\n",
    "for note in all_note_positions:\n",
    "    heatMap[note['LL'] - miLL ][note['LI'] - miLI ] += 1\n",
    "    \n",
    "print(heatMap)"
   ]
  },
  {
   "cell_type": "code",
   "execution_count": 255,
   "metadata": {},
   "outputs": [
    {
     "data": {
      "image/png": "[encoded data removed]",
      "text/plain": [
       "<Figure size 720x360 with 1 Axes>"
      ]
     },
     "metadata": {
      "needs_background": "light"
     },
     "output_type": "display_data"
    }
   ],
   "source": [
    "# plot the heatmap (upside down, since layer 0 is the ground layer)\n",
    "\n",
    "plt.figure(figsize=(10,5))\n",
    "plt.imshow(heatMap, cmap=\"hot\", origin=\"lower\")\n",
    "plt.xticks(range(0, maLI - miLI + 1), range(miLI, maLI + 1))\n",
    "plt.yticks(range(0, maLL - miLL + 1), range(miLL, maLL + 1))\n",
    "plt.show()"
   ]
  },
  {
   "cell_type": "markdown",
   "metadata": {},
   "source": [
    "It seems that the extended two blocks on each side are almost never used; they can be discarded for simplicity. Updating:\n",
    "\n",
    "number of locations:\n",
    "\n",
    "$ n_{loc} = \\_lineIndex \\cdot \\_lineLayer = 4 \\cdot 3 = 12 $\n",
    "\n",
    "The max number of states for a block therefore drops down to:\n",
    "\n",
    "$ b_1 = n_{loc} \\cdot n_{block} = 216$\n",
    "\n",
    "And all possible arrangements for a time step, allowing everything:\n",
    "\n",
    "$ b_{all} = (n_{block} + 1)^{n_{loc}} > 10^{15} $\n",
    "\n",
    "still a huge number. Let's only allow at most 2 blocks, one for the right hand and one for the left hand.\n",
    "\n",
    "$ b_{2} = \\_cutDirection^2 \\cdot n_{loc} \\cdot (n_{loc} - 1) = 10692 $\n",
    "\n",
    "## Insight\n",
    "\n",
    "Using CTC, better results might potentially be obtained by staggering left/right by a few milliseconds, thus enabling predictions in a significantly smaller feature space. However, I am still worried by the fact that encoding the entire state into an alphabet might make the model lose the semantics of what a position is, is \\[2,3\\] close to \\[3,3\\] etc. I'm therefore also considering multiple outputs with multiple loss functions, each handling a different aspect.\n",
    "\n",
    "A transformer is also an option, by pre-segmenting the data it could simply spit out the current configuration block by block until it's done"
   ]
  },
  {
   "cell_type": "code",
   "execution_count": null,
   "metadata": {},
   "outputs": [],
   "source": []
  },
  {
   "cell_type": "code",
   "execution_count": null,
   "metadata": {},
   "outputs": [],
   "source": []
  }
 ],
 "metadata": {
  "kernelspec": {
   "display_name": "Python 3",
   "language": "python",
   "name": "python3"
  },
  "language_info": {
   "codemirror_mode": {
    "name": "ipython",
    "version": 3
   },
   "file_extension": ".py",
   "mimetype": "text/x-python",
   "name": "python",
   "nbconvert_exporter": "python",
   "pygments_lexer": "ipython3",
   "version": "3.7.6"
  }
 },
 "nbformat": 4,
 "nbformat_minor": 4
}
